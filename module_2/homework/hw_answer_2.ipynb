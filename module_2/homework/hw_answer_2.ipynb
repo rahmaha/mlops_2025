{
 "cells": [
  {
   "cell_type": "markdown",
   "id": "3571ac74",
   "metadata": {},
   "source": [
    "# Homework 2 answers \n",
    "\n",
    "by Rahma Hayuning Astuti"
   ]
  },
  {
   "cell_type": "markdown",
   "id": "ed1a574a",
   "metadata": {},
   "source": [
    "## Q1 install mlflow\n",
    "\n",
    "what's the version? 2.15.1"
   ]
  },
  {
   "cell_type": "markdown",
   "id": "df1fc4e2",
   "metadata": {},
   "source": [
    "## Q2 download and preprocess the data\n",
    "\n",
    "do command on bash -> linux\n",
    "\n",
    "python ./homework/preprocess_data.py --raw_data_path ./data/raw --dest_path ./data/output\n",
    "\n",
    "answer: file saved on folder (4)"
   ]
  },
  {
   "cell_type": "markdown",
   "id": "22ee2153",
   "metadata": {},
   "source": [
    "## Q3 Train with autolog\n",
    "\n",
    "do python command on train.py and then in new terminal open mlflow ui, to see the results in http://127.0.0.1:5000.\n",
    "\n",
    "Answer: min_samples_split -> 2"
   ]
  },
  {
   "cell_type": "markdown",
   "id": "0887b89b",
   "metadata": {},
   "source": [
    "## Q4 Launch the tracking server locally\n",
    "\n",
    "In addition to backend-store-uri, what else do you need to pass to properly configure the server?\n",
    "\n",
    "    default-artifact-root\n",
    "    serve-artifacts\n",
    "    artifacts-only\n",
    "    artifacts-destination\n",
    "\n",
    "Answer: default-artifact-root"
   ]
  },
  {
   "cell_type": "markdown",
   "id": "188bf885",
   "metadata": {},
   "source": [
    "## Q5 Tune Model hyperparameters\n",
    "\n",
    "The idea is to just log the information that you need to answer the question below, including:\n",
    "\n",
    "    the list of hyperparameters that are passed to the objective function during the optimization,\n",
    "    the RMSE obtained on the validation set (February 2023 data).\n",
    "\n",
    "What's the best validation RMSE that you got?\n",
    "\n",
    "Answer: 5.335"
   ]
  },
  {
   "cell_type": "markdown",
   "id": "6d18ab68",
   "metadata": {},
   "source": [
    "## Q6 Registry the model\n",
    "\n",
    "In this exercise, you'll promote the best model to the model registry. We have prepared a script called register_model.py, which will check the results from the previous step and select the top 5 runs. After that, it will calculate the RMSE of those models on the test set (March 2023 data) and save the results to a new experiment called random-forest-best-models.\n",
    "\n",
    "What is the test RMSE of the best model?\n",
    "\n",
    "Answer: 5.567408012462019"
   ]
  },
  {
   "cell_type": "code",
   "execution_count": null,
   "id": "f4d9cb9c",
   "metadata": {},
   "outputs": [],
   "source": []
  }
 ],
 "metadata": {
  "kernelspec": {
   "display_name": "Python 3",
   "language": "python",
   "name": "python3"
  },
  "language_info": {
   "name": "python",
   "version": "3.10.11"
  }
 },
 "nbformat": 4,
 "nbformat_minor": 5
}
