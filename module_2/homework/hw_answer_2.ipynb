{
 "cells": [
  {
   "cell_type": "markdown",
   "id": "3571ac74",
   "metadata": {},
   "source": [
    "# Homework 2 answers \n",
    "\n",
    "by Rahma Hayuning Astuti"
   ]
  },
  {
   "cell_type": "markdown",
   "id": "ed1a574a",
   "metadata": {},
   "source": [
    "## Q1 install mlflow\n",
    "\n",
    "what's the version? 2.15.1"
   ]
  },
  {
   "cell_type": "markdown",
   "id": "df1fc4e2",
   "metadata": {},
   "source": [
    "## Q2 download and preprocess the data\n",
    "\n"
   ]
  },
  {
   "cell_type": "code",
   "execution_count": null,
   "id": "ab8ba114",
   "metadata": {},
   "outputs": [],
   "source": []
  },
  {
   "cell_type": "code",
   "execution_count": null,
   "id": "f4d9cb9c",
   "metadata": {},
   "outputs": [],
   "source": []
  }
 ],
 "metadata": {
  "kernelspec": {
   "display_name": "Python 3",
   "language": "python",
   "name": "python3"
  },
  "language_info": {
   "name": "python",
   "version": "3.10.11"
  }
 },
 "nbformat": 4,
 "nbformat_minor": 5
}
