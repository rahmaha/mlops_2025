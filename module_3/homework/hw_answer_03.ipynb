{
 "cells": [
  {
   "cell_type": "markdown",
   "id": "8a0e60be",
   "metadata": {},
   "source": [
    "# Homework Answer Module 3 \n",
    "\n",
    "by Rahma Hayuning Astuti"
   ]
  },
  {
   "cell_type": "markdown",
   "id": "3b19e766",
   "metadata": {},
   "source": [
    "## Question 1. Select the Tool\n",
    "\n",
    "You can use the same tool you used when completing the module, or choose a different one for your homework.\n",
    "\n",
    "What's the name of the orchestrator you chose?\n",
    "\n",
    "Answer: Prefect"
   ]
  },
  {
   "cell_type": "markdown",
   "id": "691de885",
   "metadata": {},
   "source": [
    "## Question 2\n",
    "\n",
    "What's the version of the orchestrator?\n",
    "\n",
    "Answer: 3.4.4"
   ]
  },
  {
   "cell_type": "markdown",
   "id": "0c141de4",
   "metadata": {},
   "source": [
    "## Question 3\n",
    "\n",
    "Let's read the March 2023 Yellow taxi trips data.\n",
    "\n",
    "How many records did we load?\n",
    "\n",
    "    3,003,766\n",
    "    3,203,766\n",
    "    3,403,766\n",
    "    3,603,766\n",
    " \n",
    "Answer: 3403766"
   ]
  },
  {
   "cell_type": "code",
   "execution_count": 1,
   "id": "672d95ad",
   "metadata": {},
   "outputs": [],
   "source": [
    "import pandas as pd"
   ]
  },
  {
   "cell_type": "code",
   "execution_count": 8,
   "id": "dc5e195c",
   "metadata": {},
   "outputs": [
    {
     "name": "stdout",
     "output_type": "stream",
     "text": [
      "Number of records loaded: 3403766\n"
     ]
    }
   ],
   "source": [
    "import pandas as pd\n",
    "\n",
    "# Load the dataset\n",
    "df = pd.read_parquet(\"D:\\github\\mlops_2025\\module_3\\homework\\data\\yellow_tripdata_2023-03.parquet\")\n",
    "\n",
    "# Get the number of records\n",
    "num_records = len(df)\n",
    "\n",
    "print(f\"Number of records loaded: {num_records}\")\n"
   ]
  },
  {
   "cell_type": "markdown",
   "id": "1a86ce61",
   "metadata": {},
   "source": [
    "## Question 4. Data preparation\n",
    "\n",
    "Let's continue with pipeline creation.\n",
    "\n",
    "We will use the same logic for preparing the data we used previously.\n",
    "\n",
    "This is what we used (adjusted for yellow dataset):\n",
    "\n",
    "Answer: 3316216"
   ]
  },
  {
   "cell_type": "code",
   "execution_count": 9,
   "id": "9d1f8866",
   "metadata": {},
   "outputs": [],
   "source": [
    "def read_dataframe(filename):\n",
    "    df = pd.read_parquet(filename)\n",
    "\n",
    "    df['duration'] = df.tpep_dropoff_datetime - df.tpep_pickup_datetime\n",
    "    df.duration = df.duration.dt.total_seconds() / 60\n",
    "\n",
    "    df = df[(df.duration >= 1) & (df.duration <= 60)]\n",
    "\n",
    "    categorical = ['PULocationID', 'DOLocationID']\n",
    "    df[categorical] = df[categorical].astype(str)\n",
    "    \n",
    "    return df\n",
    "\n",
    "read_df = read_dataframe('./data/yellow_tripdata_2023-03.parquet')"
   ]
  },
  {
   "cell_type": "code",
   "execution_count": 10,
   "id": "22d35884",
   "metadata": {},
   "outputs": [
    {
     "name": "stdout",
     "output_type": "stream",
     "text": [
      "Number of records after filtering: 3316216\n"
     ]
    }
   ],
   "source": [
    "print(f'Number of records after filtering: {len(read_df)}')"
   ]
  },
  {
   "cell_type": "markdown",
   "id": "72908b5b",
   "metadata": {},
   "source": [
    "## Question 5. Train a model\n",
    "\n",
    "We will now train a linear regression model using the same code as in homework 1.\n",
    "\n",
    "    Fit a dict vectorizer.\n",
    "    Train a linear regression with default parameters.\n",
    "    Use pick up and drop off locations separately, don't create a combination feature.\n",
    "\n",
    "Let's now use it in the pipeline. We will need to create another transformation block, and return both the dict vectorizer and the model.\n",
    "\n",
    "What's the intercept of the model?\n",
    "\n",
    "Hint: print the intercept_ field in the code block\n",
    "\n",
    "Answer: for this question, I have separate scripts named question-5.py.\n",
    "\n",
    "Intercept of the model: 24.776359644078624"
   ]
  },
  {
   "cell_type": "markdown",
   "id": "fac8d03d",
   "metadata": {},
   "source": [
    "## Question 6. Register the model\n",
    "\n",
    "The model is trained, so let's save it with MLFlow.\n",
    "\n",
    "Find the logged model, and find MLModel file. What's the size of the model? (model_size_bytes field):\n",
    "\n",
    "    14,534\n",
    "    9,534\n",
    "    4,534\n",
    "    1,534\n",
    "\n",
    "\n",
    "Answer: MThere's different script called question-6.py, where my code for question 6. Also I got Model size: 4616.00\n",
    "which is no one match but the close one is 4,534"
   ]
  }
 ],
 "metadata": {
  "kernelspec": {
   "display_name": "Python 3",
   "language": "python",
   "name": "python3"
  },
  "language_info": {
   "codemirror_mode": {
    "name": "ipython",
    "version": 3
   },
   "file_extension": ".py",
   "mimetype": "text/x-python",
   "name": "python",
   "nbconvert_exporter": "python",
   "pygments_lexer": "ipython3",
   "version": "3.10.11"
  }
 },
 "nbformat": 4,
 "nbformat_minor": 5
}
